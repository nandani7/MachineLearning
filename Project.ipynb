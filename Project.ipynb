{
 "cells": [
  {
   "cell_type": "code",
   "execution_count": 5,
   "metadata": {},
   "outputs": [],
   "source": [
    "import pandas as pd\n",
    "import matplotlib.pyplot as plt\n",
    "import seaborn as sns"
   ]
  },
  {
   "cell_type": "code",
   "execution_count": 106,
   "metadata": {},
   "outputs": [],
   "source": [
    "data=pd.read_csv(\"all_month (1).csv\")"
   ]
  },
  {
   "cell_type": "code",
   "execution_count": 107,
   "metadata": {},
   "outputs": [
    {
     "data": {
      "text/html": [
       "<div>\n",
       "<style scoped>\n",
       "    .dataframe tbody tr th:only-of-type {\n",
       "        vertical-align: middle;\n",
       "    }\n",
       "\n",
       "    .dataframe tbody tr th {\n",
       "        vertical-align: top;\n",
       "    }\n",
       "\n",
       "    .dataframe thead th {\n",
       "        text-align: right;\n",
       "    }\n",
       "</style>\n",
       "<table border=\"1\" class=\"dataframe\">\n",
       "  <thead>\n",
       "    <tr style=\"text-align: right;\">\n",
       "      <th></th>\n",
       "      <th>time</th>\n",
       "      <th>latitude</th>\n",
       "      <th>longitude</th>\n",
       "      <th>depth</th>\n",
       "      <th>mag</th>\n",
       "      <th>magType</th>\n",
       "      <th>nst</th>\n",
       "      <th>gap</th>\n",
       "      <th>dmin</th>\n",
       "      <th>rms</th>\n",
       "      <th>...</th>\n",
       "      <th>updated</th>\n",
       "      <th>place</th>\n",
       "      <th>type</th>\n",
       "      <th>horizontalError</th>\n",
       "      <th>depthError</th>\n",
       "      <th>magError</th>\n",
       "      <th>magNst</th>\n",
       "      <th>status</th>\n",
       "      <th>locationSource</th>\n",
       "      <th>magSource</th>\n",
       "    </tr>\n",
       "  </thead>\n",
       "  <tbody>\n",
       "    <tr>\n",
       "      <th>0</th>\n",
       "      <td>2020-07-16T14:13:08.670Z</td>\n",
       "      <td>40.366665</td>\n",
       "      <td>-123.920502</td>\n",
       "      <td>20.23</td>\n",
       "      <td>1.87</td>\n",
       "      <td>md</td>\n",
       "      <td>5.0</td>\n",
       "      <td>167.0</td>\n",
       "      <td>0.096860</td>\n",
       "      <td>0.00</td>\n",
       "      <td>...</td>\n",
       "      <td>2020-07-16T14:15:31.404Z</td>\n",
       "      <td>22km SE of Rio Dell, CA</td>\n",
       "      <td>earthquake</td>\n",
       "      <td>2.36</td>\n",
       "      <td>0.60</td>\n",
       "      <td>0.060</td>\n",
       "      <td>4.0</td>\n",
       "      <td>automatic</td>\n",
       "      <td>nc</td>\n",
       "      <td>nc</td>\n",
       "    </tr>\n",
       "    <tr>\n",
       "      <th>1</th>\n",
       "      <td>2020-07-16T14:04:35.830Z</td>\n",
       "      <td>38.815666</td>\n",
       "      <td>-122.817833</td>\n",
       "      <td>2.34</td>\n",
       "      <td>1.37</td>\n",
       "      <td>md</td>\n",
       "      <td>28.0</td>\n",
       "      <td>50.0</td>\n",
       "      <td>0.009813</td>\n",
       "      <td>0.03</td>\n",
       "      <td>...</td>\n",
       "      <td>2020-07-16T14:12:05.510Z</td>\n",
       "      <td>7km NW of The Geysers, CA</td>\n",
       "      <td>earthquake</td>\n",
       "      <td>0.19</td>\n",
       "      <td>0.38</td>\n",
       "      <td>0.130</td>\n",
       "      <td>5.0</td>\n",
       "      <td>automatic</td>\n",
       "      <td>nc</td>\n",
       "      <td>nc</td>\n",
       "    </tr>\n",
       "    <tr>\n",
       "      <th>2</th>\n",
       "      <td>2020-07-16T13:59:57.770Z</td>\n",
       "      <td>36.399333</td>\n",
       "      <td>-117.952000</td>\n",
       "      <td>-0.30</td>\n",
       "      <td>1.78</td>\n",
       "      <td>ml</td>\n",
       "      <td>18.0</td>\n",
       "      <td>106.0</td>\n",
       "      <td>0.111000</td>\n",
       "      <td>0.28</td>\n",
       "      <td>...</td>\n",
       "      <td>2020-07-16T14:04:10.703Z</td>\n",
       "      <td>14km NNE of Olancha, CA</td>\n",
       "      <td>earthquake</td>\n",
       "      <td>0.66</td>\n",
       "      <td>31.61</td>\n",
       "      <td>0.184</td>\n",
       "      <td>25.0</td>\n",
       "      <td>automatic</td>\n",
       "      <td>ci</td>\n",
       "      <td>ci</td>\n",
       "    </tr>\n",
       "    <tr>\n",
       "      <th>3</th>\n",
       "      <td>2020-07-16T13:58:38.770Z</td>\n",
       "      <td>19.374332</td>\n",
       "      <td>-155.293839</td>\n",
       "      <td>7.54</td>\n",
       "      <td>1.72</td>\n",
       "      <td>md</td>\n",
       "      <td>12.0</td>\n",
       "      <td>255.0</td>\n",
       "      <td>NaN</td>\n",
       "      <td>0.15</td>\n",
       "      <td>...</td>\n",
       "      <td>2020-07-16T14:01:34.530Z</td>\n",
       "      <td>9 km SW of Volcano, Hawaii</td>\n",
       "      <td>earthquake</td>\n",
       "      <td>1.68</td>\n",
       "      <td>1.03</td>\n",
       "      <td>0.770</td>\n",
       "      <td>7.0</td>\n",
       "      <td>automatic</td>\n",
       "      <td>hv</td>\n",
       "      <td>hv</td>\n",
       "    </tr>\n",
       "    <tr>\n",
       "      <th>4</th>\n",
       "      <td>2020-07-16T13:55:28.740Z</td>\n",
       "      <td>33.483667</td>\n",
       "      <td>-116.792500</td>\n",
       "      <td>6.24</td>\n",
       "      <td>0.41</td>\n",
       "      <td>ml</td>\n",
       "      <td>16.0</td>\n",
       "      <td>49.0</td>\n",
       "      <td>0.029370</td>\n",
       "      <td>0.17</td>\n",
       "      <td>...</td>\n",
       "      <td>2020-07-16T13:59:14.070Z</td>\n",
       "      <td>8km NE of Aguanga, CA</td>\n",
       "      <td>earthquake</td>\n",
       "      <td>0.32</td>\n",
       "      <td>0.95</td>\n",
       "      <td>0.131</td>\n",
       "      <td>9.0</td>\n",
       "      <td>automatic</td>\n",
       "      <td>ci</td>\n",
       "      <td>ci</td>\n",
       "    </tr>\n",
       "  </tbody>\n",
       "</table>\n",
       "<p>5 rows × 22 columns</p>\n",
       "</div>"
      ],
      "text/plain": [
       "                       time   latitude   longitude  depth   mag magType   nst  \\\n",
       "0  2020-07-16T14:13:08.670Z  40.366665 -123.920502  20.23  1.87      md   5.0   \n",
       "1  2020-07-16T14:04:35.830Z  38.815666 -122.817833   2.34  1.37      md  28.0   \n",
       "2  2020-07-16T13:59:57.770Z  36.399333 -117.952000  -0.30  1.78      ml  18.0   \n",
       "3  2020-07-16T13:58:38.770Z  19.374332 -155.293839   7.54  1.72      md  12.0   \n",
       "4  2020-07-16T13:55:28.740Z  33.483667 -116.792500   6.24  0.41      ml  16.0   \n",
       "\n",
       "     gap      dmin   rms  ...                   updated  \\\n",
       "0  167.0  0.096860  0.00  ...  2020-07-16T14:15:31.404Z   \n",
       "1   50.0  0.009813  0.03  ...  2020-07-16T14:12:05.510Z   \n",
       "2  106.0  0.111000  0.28  ...  2020-07-16T14:04:10.703Z   \n",
       "3  255.0       NaN  0.15  ...  2020-07-16T14:01:34.530Z   \n",
       "4   49.0  0.029370  0.17  ...  2020-07-16T13:59:14.070Z   \n",
       "\n",
       "                        place        type horizontalError depthError  \\\n",
       "0     22km SE of Rio Dell, CA  earthquake            2.36       0.60   \n",
       "1   7km NW of The Geysers, CA  earthquake            0.19       0.38   \n",
       "2     14km NNE of Olancha, CA  earthquake            0.66      31.61   \n",
       "3  9 km SW of Volcano, Hawaii  earthquake            1.68       1.03   \n",
       "4       8km NE of Aguanga, CA  earthquake            0.32       0.95   \n",
       "\n",
       "   magError  magNst     status  locationSource magSource  \n",
       "0     0.060     4.0  automatic              nc        nc  \n",
       "1     0.130     5.0  automatic              nc        nc  \n",
       "2     0.184    25.0  automatic              ci        ci  \n",
       "3     0.770     7.0  automatic              hv        hv  \n",
       "4     0.131     9.0  automatic              ci        ci  \n",
       "\n",
       "[5 rows x 22 columns]"
      ]
     },
     "execution_count": 107,
     "metadata": {},
     "output_type": "execute_result"
    }
   ],
   "source": [
    " data.head()"
   ]
  },
  {
   "cell_type": "code",
   "execution_count": 108,
   "metadata": {},
   "outputs": [
    {
     "data": {
      "text/plain": [
       "time               2020-07-16T14:13:08.670Z2020-07-16T14:04:35.83...\n",
       "latitude                                                      619773\n",
       "longitude                                               -1.86414e+06\n",
       "depth                                                         248528\n",
       "mag                                                          23272.5\n",
       "nst                                                           235734\n",
       "gap                                                      1.55289e+06\n",
       "dmin                                                          4801.2\n",
       "rms                                                          3702.98\n",
       "net                ncnccihvciuwcinncicinnakhvnnnnakakakncciakaknn...\n",
       "id                 nc73427091nc73427086ci38593058hv72046837ci3859...\n",
       "updated            2020-07-16T14:15:31.404Z2020-07-16T14:12:05.51...\n",
       "place              22km SE of Rio Dell, CA7km NW of The Geysers, ...\n",
       "type               earthquakeearthquakeearthquakeearthquakeearthq...\n",
       "horizontalError                                              12824.2\n",
       "depthError                                                   34682.4\n",
       "magError                                                      2372.9\n",
       "magNst                                                        160966\n",
       "status             automaticautomaticautomaticautomaticautomatica...\n",
       "locationSource     ncnccihvciuwcinncicinnakhvnnnnakakakncciakaknn...\n",
       "magSource          ncnccihvciuwcinncicinnakhvnnnnakakakncciakaknn...\n",
       "dtype: object"
      ]
     },
     "execution_count": 108,
     "metadata": {},
     "output_type": "execute_result"
    }
   ],
   "source": [
    "data.sum()"
   ]
  },
  {
   "cell_type": "code",
   "execution_count": 109,
   "metadata": {},
   "outputs": [
    {
     "name": "stdout",
     "output_type": "stream",
     "text": [
      "351450 351450\n"
     ]
    }
   ],
   "source": [
    "c,d=0,0\n",
    "import numpy as np\n",
    "for i in data:\n",
    "    for j in data[i]:\n",
    "        d+=1\n",
    "        if j!=np.nan:\n",
    "            c+=1\n",
    "print(c,d)"
   ]
  },
  {
   "cell_type": "code",
   "execution_count": 110,
   "metadata": {},
   "outputs": [
    {
     "data": {
      "text/html": [
       "<div>\n",
       "<style scoped>\n",
       "    .dataframe tbody tr th:only-of-type {\n",
       "        vertical-align: middle;\n",
       "    }\n",
       "\n",
       "    .dataframe tbody tr th {\n",
       "        vertical-align: top;\n",
       "    }\n",
       "\n",
       "    .dataframe thead th {\n",
       "        text-align: right;\n",
       "    }\n",
       "</style>\n",
       "<table border=\"1\" class=\"dataframe\">\n",
       "  <thead>\n",
       "    <tr style=\"text-align: right;\">\n",
       "      <th></th>\n",
       "      <th>time</th>\n",
       "      <th>latitude</th>\n",
       "      <th>longitude</th>\n",
       "      <th>depth</th>\n",
       "      <th>mag</th>\n",
       "      <th>magType</th>\n",
       "      <th>nst</th>\n",
       "      <th>gap</th>\n",
       "      <th>dmin</th>\n",
       "      <th>rms</th>\n",
       "      <th>...</th>\n",
       "      <th>updated</th>\n",
       "      <th>place</th>\n",
       "      <th>type</th>\n",
       "      <th>horizontalError</th>\n",
       "      <th>depthError</th>\n",
       "      <th>magError</th>\n",
       "      <th>magNst</th>\n",
       "      <th>status</th>\n",
       "      <th>locationSource</th>\n",
       "      <th>magSource</th>\n",
       "    </tr>\n",
       "  </thead>\n",
       "  <tbody>\n",
       "    <tr>\n",
       "      <th>0</th>\n",
       "      <td>False</td>\n",
       "      <td>False</td>\n",
       "      <td>False</td>\n",
       "      <td>False</td>\n",
       "      <td>False</td>\n",
       "      <td>False</td>\n",
       "      <td>False</td>\n",
       "      <td>False</td>\n",
       "      <td>False</td>\n",
       "      <td>False</td>\n",
       "      <td>...</td>\n",
       "      <td>False</td>\n",
       "      <td>False</td>\n",
       "      <td>False</td>\n",
       "      <td>False</td>\n",
       "      <td>False</td>\n",
       "      <td>False</td>\n",
       "      <td>False</td>\n",
       "      <td>False</td>\n",
       "      <td>False</td>\n",
       "      <td>False</td>\n",
       "    </tr>\n",
       "    <tr>\n",
       "      <th>1</th>\n",
       "      <td>False</td>\n",
       "      <td>False</td>\n",
       "      <td>False</td>\n",
       "      <td>False</td>\n",
       "      <td>False</td>\n",
       "      <td>False</td>\n",
       "      <td>False</td>\n",
       "      <td>False</td>\n",
       "      <td>False</td>\n",
       "      <td>False</td>\n",
       "      <td>...</td>\n",
       "      <td>False</td>\n",
       "      <td>False</td>\n",
       "      <td>False</td>\n",
       "      <td>False</td>\n",
       "      <td>False</td>\n",
       "      <td>False</td>\n",
       "      <td>False</td>\n",
       "      <td>False</td>\n",
       "      <td>False</td>\n",
       "      <td>False</td>\n",
       "    </tr>\n",
       "    <tr>\n",
       "      <th>2</th>\n",
       "      <td>False</td>\n",
       "      <td>False</td>\n",
       "      <td>False</td>\n",
       "      <td>False</td>\n",
       "      <td>False</td>\n",
       "      <td>False</td>\n",
       "      <td>False</td>\n",
       "      <td>False</td>\n",
       "      <td>False</td>\n",
       "      <td>False</td>\n",
       "      <td>...</td>\n",
       "      <td>False</td>\n",
       "      <td>False</td>\n",
       "      <td>False</td>\n",
       "      <td>False</td>\n",
       "      <td>False</td>\n",
       "      <td>False</td>\n",
       "      <td>False</td>\n",
       "      <td>False</td>\n",
       "      <td>False</td>\n",
       "      <td>False</td>\n",
       "    </tr>\n",
       "    <tr>\n",
       "      <th>3</th>\n",
       "      <td>False</td>\n",
       "      <td>False</td>\n",
       "      <td>False</td>\n",
       "      <td>False</td>\n",
       "      <td>False</td>\n",
       "      <td>False</td>\n",
       "      <td>False</td>\n",
       "      <td>False</td>\n",
       "      <td>True</td>\n",
       "      <td>False</td>\n",
       "      <td>...</td>\n",
       "      <td>False</td>\n",
       "      <td>False</td>\n",
       "      <td>False</td>\n",
       "      <td>False</td>\n",
       "      <td>False</td>\n",
       "      <td>False</td>\n",
       "      <td>False</td>\n",
       "      <td>False</td>\n",
       "      <td>False</td>\n",
       "      <td>False</td>\n",
       "    </tr>\n",
       "    <tr>\n",
       "      <th>4</th>\n",
       "      <td>False</td>\n",
       "      <td>False</td>\n",
       "      <td>False</td>\n",
       "      <td>False</td>\n",
       "      <td>False</td>\n",
       "      <td>False</td>\n",
       "      <td>False</td>\n",
       "      <td>False</td>\n",
       "      <td>False</td>\n",
       "      <td>False</td>\n",
       "      <td>...</td>\n",
       "      <td>False</td>\n",
       "      <td>False</td>\n",
       "      <td>False</td>\n",
       "      <td>False</td>\n",
       "      <td>False</td>\n",
       "      <td>False</td>\n",
       "      <td>False</td>\n",
       "      <td>False</td>\n",
       "      <td>False</td>\n",
       "      <td>False</td>\n",
       "    </tr>\n",
       "    <tr>\n",
       "      <th>...</th>\n",
       "      <td>...</td>\n",
       "      <td>...</td>\n",
       "      <td>...</td>\n",
       "      <td>...</td>\n",
       "      <td>...</td>\n",
       "      <td>...</td>\n",
       "      <td>...</td>\n",
       "      <td>...</td>\n",
       "      <td>...</td>\n",
       "      <td>...</td>\n",
       "      <td>...</td>\n",
       "      <td>...</td>\n",
       "      <td>...</td>\n",
       "      <td>...</td>\n",
       "      <td>...</td>\n",
       "      <td>...</td>\n",
       "      <td>...</td>\n",
       "      <td>...</td>\n",
       "      <td>...</td>\n",
       "      <td>...</td>\n",
       "      <td>...</td>\n",
       "    </tr>\n",
       "    <tr>\n",
       "      <th>15970</th>\n",
       "      <td>False</td>\n",
       "      <td>False</td>\n",
       "      <td>False</td>\n",
       "      <td>False</td>\n",
       "      <td>False</td>\n",
       "      <td>False</td>\n",
       "      <td>True</td>\n",
       "      <td>False</td>\n",
       "      <td>False</td>\n",
       "      <td>False</td>\n",
       "      <td>...</td>\n",
       "      <td>False</td>\n",
       "      <td>False</td>\n",
       "      <td>False</td>\n",
       "      <td>False</td>\n",
       "      <td>False</td>\n",
       "      <td>False</td>\n",
       "      <td>False</td>\n",
       "      <td>False</td>\n",
       "      <td>False</td>\n",
       "      <td>False</td>\n",
       "    </tr>\n",
       "    <tr>\n",
       "      <th>15971</th>\n",
       "      <td>False</td>\n",
       "      <td>False</td>\n",
       "      <td>False</td>\n",
       "      <td>False</td>\n",
       "      <td>False</td>\n",
       "      <td>False</td>\n",
       "      <td>True</td>\n",
       "      <td>True</td>\n",
       "      <td>True</td>\n",
       "      <td>False</td>\n",
       "      <td>...</td>\n",
       "      <td>False</td>\n",
       "      <td>False</td>\n",
       "      <td>False</td>\n",
       "      <td>True</td>\n",
       "      <td>False</td>\n",
       "      <td>True</td>\n",
       "      <td>True</td>\n",
       "      <td>False</td>\n",
       "      <td>False</td>\n",
       "      <td>False</td>\n",
       "    </tr>\n",
       "    <tr>\n",
       "      <th>15972</th>\n",
       "      <td>False</td>\n",
       "      <td>False</td>\n",
       "      <td>False</td>\n",
       "      <td>False</td>\n",
       "      <td>False</td>\n",
       "      <td>False</td>\n",
       "      <td>False</td>\n",
       "      <td>False</td>\n",
       "      <td>False</td>\n",
       "      <td>False</td>\n",
       "      <td>...</td>\n",
       "      <td>False</td>\n",
       "      <td>False</td>\n",
       "      <td>False</td>\n",
       "      <td>False</td>\n",
       "      <td>False</td>\n",
       "      <td>False</td>\n",
       "      <td>False</td>\n",
       "      <td>False</td>\n",
       "      <td>False</td>\n",
       "      <td>False</td>\n",
       "    </tr>\n",
       "    <tr>\n",
       "      <th>15973</th>\n",
       "      <td>False</td>\n",
       "      <td>False</td>\n",
       "      <td>False</td>\n",
       "      <td>False</td>\n",
       "      <td>False</td>\n",
       "      <td>False</td>\n",
       "      <td>True</td>\n",
       "      <td>False</td>\n",
       "      <td>False</td>\n",
       "      <td>False</td>\n",
       "      <td>...</td>\n",
       "      <td>False</td>\n",
       "      <td>False</td>\n",
       "      <td>False</td>\n",
       "      <td>False</td>\n",
       "      <td>False</td>\n",
       "      <td>False</td>\n",
       "      <td>False</td>\n",
       "      <td>False</td>\n",
       "      <td>False</td>\n",
       "      <td>False</td>\n",
       "    </tr>\n",
       "    <tr>\n",
       "      <th>15974</th>\n",
       "      <td>False</td>\n",
       "      <td>False</td>\n",
       "      <td>False</td>\n",
       "      <td>False</td>\n",
       "      <td>False</td>\n",
       "      <td>False</td>\n",
       "      <td>True</td>\n",
       "      <td>False</td>\n",
       "      <td>False</td>\n",
       "      <td>False</td>\n",
       "      <td>...</td>\n",
       "      <td>False</td>\n",
       "      <td>False</td>\n",
       "      <td>False</td>\n",
       "      <td>False</td>\n",
       "      <td>False</td>\n",
       "      <td>False</td>\n",
       "      <td>False</td>\n",
       "      <td>False</td>\n",
       "      <td>False</td>\n",
       "      <td>False</td>\n",
       "    </tr>\n",
       "  </tbody>\n",
       "</table>\n",
       "<p>15975 rows × 22 columns</p>\n",
       "</div>"
      ],
      "text/plain": [
       "        time  latitude  longitude  depth    mag  magType    nst    gap   dmin  \\\n",
       "0      False     False      False  False  False    False  False  False  False   \n",
       "1      False     False      False  False  False    False  False  False  False   \n",
       "2      False     False      False  False  False    False  False  False  False   \n",
       "3      False     False      False  False  False    False  False  False   True   \n",
       "4      False     False      False  False  False    False  False  False  False   \n",
       "...      ...       ...        ...    ...    ...      ...    ...    ...    ...   \n",
       "15970  False     False      False  False  False    False   True  False  False   \n",
       "15971  False     False      False  False  False    False   True   True   True   \n",
       "15972  False     False      False  False  False    False  False  False  False   \n",
       "15973  False     False      False  False  False    False   True  False  False   \n",
       "15974  False     False      False  False  False    False   True  False  False   \n",
       "\n",
       "         rms  ...  updated  place   type  horizontalError  depthError  \\\n",
       "0      False  ...    False  False  False            False       False   \n",
       "1      False  ...    False  False  False            False       False   \n",
       "2      False  ...    False  False  False            False       False   \n",
       "3      False  ...    False  False  False            False       False   \n",
       "4      False  ...    False  False  False            False       False   \n",
       "...      ...  ...      ...    ...    ...              ...         ...   \n",
       "15970  False  ...    False  False  False            False       False   \n",
       "15971  False  ...    False  False  False             True       False   \n",
       "15972  False  ...    False  False  False            False       False   \n",
       "15973  False  ...    False  False  False            False       False   \n",
       "15974  False  ...    False  False  False            False       False   \n",
       "\n",
       "       magError  magNst  status  locationSource  magSource  \n",
       "0         False   False   False           False      False  \n",
       "1         False   False   False           False      False  \n",
       "2         False   False   False           False      False  \n",
       "3         False   False   False           False      False  \n",
       "4         False   False   False           False      False  \n",
       "...         ...     ...     ...             ...        ...  \n",
       "15970     False   False   False           False      False  \n",
       "15971      True    True   False           False      False  \n",
       "15972     False   False   False           False      False  \n",
       "15973     False   False   False           False      False  \n",
       "15974     False   False   False           False      False  \n",
       "\n",
       "[15975 rows x 22 columns]"
      ]
     },
     "execution_count": 110,
     "metadata": {},
     "output_type": "execute_result"
    }
   ],
   "source": [
    "data.isnull()"
   ]
  },
  {
   "cell_type": "code",
   "execution_count": 111,
   "metadata": {},
   "outputs": [
    {
     "data": {
      "text/plain": [
       "<matplotlib.axes._subplots.AxesSubplot at 0x2104353d548>"
      ]
     },
     "execution_count": 111,
     "metadata": {},
     "output_type": "execute_result"
    },
    {
     "data": {
      "image/png": "[encoded data removed]",
      "text/plain": [
       "<Figure size 432x288 with 1 Axes>"
      ]
     },
     "metadata": {
      "needs_background": "light"
     },
     "output_type": "display_data"
    }
   ],
   "source": [
    "sns.heatmap(data.isnull(),yticklabels=False,cbar=False,cmap='cubehelix')"
   ]
  },
  {
   "cell_type": "code",
   "execution_count": 112,
   "metadata": {},
   "outputs": [],
   "source": [
    "data['magNst'].replace(np.nan,data['magNst'].mean(),inplace=True)"
   ]
  },
  {
   "cell_type": "code",
   "execution_count": 113,
   "metadata": {},
   "outputs": [
    {
     "data": {
      "text/plain": [
       "<matplotlib.axes._subplots.AxesSubplot at 0x210434ba348>"
      ]
     },
     "execution_count": 113,
     "metadata": {},
     "output_type": "execute_result"
    },
    {
     "data": {
      "image/png": "[encoded data removed]",
      "text/plain": [
       "<Figure size 432x288 with 1 Axes>"
      ]
     },
     "metadata": {
      "needs_background": "light"
     },
     "output_type": "display_data"
    }
   ],
   "source": [
    "sns.heatmap(data.isnull(),yticklabels=False,cbar=False,cmap='cubehelix')"
   ]
  },
  {
   "cell_type": "code",
   "execution_count": 114,
   "metadata": {},
   "outputs": [],
   "source": [
    "data['magError'].replace(np.nan,data['magError'].mean(),inplace=True)"
   ]
  },
  {
   "cell_type": "code",
   "execution_count": 115,
   "metadata": {},
   "outputs": [
    {
     "data": {
      "text/plain": [
       "0        0.060000\n",
       "1        0.130000\n",
       "2        0.184000\n",
       "3        0.770000\n",
       "4        0.131000\n",
       "           ...   \n",
       "15970    0.071000\n",
       "15971    0.227769\n",
       "15972    0.040000\n",
       "15973    0.181000\n",
       "15974    0.133000\n",
       "Name: magError, Length: 15975, dtype: float64"
      ]
     },
     "execution_count": 115,
     "metadata": {},
     "output_type": "execute_result"
    }
   ],
   "source": [
    "data['magError']"
   ]
  },
  {
   "cell_type": "code",
   "execution_count": 116,
   "metadata": {},
   "outputs": [
    {
     "data": {
      "text/plain": [
       "0         5.0\n",
       "1        28.0\n",
       "2        18.0\n",
       "3        12.0\n",
       "4        16.0\n",
       "         ... \n",
       "15970     NaN\n",
       "15971     NaN\n",
       "15972     9.0\n",
       "15973     NaN\n",
       "15974     NaN\n",
       "Name: nst, Length: 15975, dtype: float64"
      ]
     },
     "execution_count": 116,
     "metadata": {},
     "output_type": "execute_result"
    }
   ],
   "source": [
    "data['nst']"
   ]
  },
  {
   "cell_type": "code",
   "execution_count": 117,
   "metadata": {},
   "outputs": [
    {
     "data": {
      "text/plain": [
       "<matplotlib.axes._subplots.AxesSubplot at 0x210432d1108>"
      ]
     },
     "execution_count": 117,
     "metadata": {},
     "output_type": "execute_result"
    },
    {
     "data": {
      "image/png": "[encoded data removed]",
      "text/plain": [
       "<Figure size 432x288 with 1 Axes>"
      ]
     },
     "metadata": {
      "needs_background": "light"
     },
     "output_type": "display_data"
    }
   ],
   "source": [
    "sns.heatmap(data.isnull(),yticklabels=False,cbar=False,cmap='cubehelix')"
   ]
  },
  {
   "cell_type": "code",
   "execution_count": 118,
   "metadata": {},
   "outputs": [],
   "source": [
    "data['nst'].replace(np.nan,data['nst'].mean(),inplace=True)"
   ]
  },
  {
   "cell_type": "code",
   "execution_count": 119,
   "metadata": {},
   "outputs": [],
   "source": [
    "data['dmin'].replace(np.nan,data['dmin'].mean(),inplace=True)"
   ]
  },
  {
   "cell_type": "code",
   "execution_count": 120,
   "metadata": {},
   "outputs": [
    {
     "data": {
      "text/plain": [
       "<matplotlib.axes._subplots.AxesSubplot at 0x21042881b48>"
      ]
     },
     "execution_count": 120,
     "metadata": {},
     "output_type": "execute_result"
    },
    {
     "data": {
      "image/png": "[encoded data removed]",
      "text/plain": [
       "<Figure size 432x288 with 1 Axes>"
      ]
     },
     "metadata": {
      "needs_background": "light"
     },
     "output_type": "display_data"
    }
   ],
   "source": [
    "sns.heatmap(data.isnull(),yticklabels=False,cbar=False,cmap='cubehelix')"
   ]
  },
  {
   "cell_type": "code",
   "execution_count": 121,
   "metadata": {},
   "outputs": [],
   "source": [
    "data['gap'].replace(np.nan,data['gap'].mean(),inplace=True)"
   ]
  },
  {
   "cell_type": "code",
   "execution_count": 123,
   "metadata": {},
   "outputs": [],
   "source": [
    "data['horizontalError'].replace(np.nan,data['horizontalError'].mean(),inplace=True)"
   ]
  },
  {
   "cell_type": "code",
   "execution_count": 124,
   "metadata": {},
   "outputs": [
    {
     "data": {
      "text/plain": [
       "<matplotlib.axes._subplots.AxesSubplot at 0x21043097188>"
      ]
     },
     "execution_count": 124,
     "metadata": {},
     "output_type": "execute_result"
    },
    {
     "data": {
      "image/png": "[encoded data removed]",
      "text/plain": [
       "<Figure size 432x288 with 1 Axes>"
      ]
     },
     "metadata": {
      "needs_background": "light"
     },
     "output_type": "display_data"
    }
   ],
   "source": [
    "sns.heatmap(data.isnull(),yticklabels=False,cbar=False,cmap='cubehelix')"
   ]
  },
  {
   "cell_type": "code",
   "execution_count": 126,
   "metadata": {},
   "outputs": [],
   "source": [
    "data.dropna(inplace=True)"
   ]
  },
  {
   "cell_type": "code",
   "execution_count": 127,
   "metadata": {
    "scrolled": true
   },
   "outputs": [
    {
     "data": {
      "text/plain": [
       "<matplotlib.axes._subplots.AxesSubplot at 0x21042a4f788>"
      ]
     },
     "execution_count": 127,
     "metadata": {},
     "output_type": "execute_result"
    },
    {
     "data": {
      "image/png": "[encoded data removed]",
      "text/plain": [
       "<Figure size 432x288 with 1 Axes>"
      ]
     },
     "metadata": {
      "needs_background": "light"
     },
     "output_type": "display_data"
    }
   ],
   "source": [
    "sns.heatmap(data.isnull(),yticklabels=False,cbar=False,cmap='cubehelix')"
   ]
  },
  {
   "cell_type": "code",
   "execution_count": 148,
   "metadata": {},
   "outputs": [
    {
     "name": "stdout",
     "output_type": "stream",
     "text": [
      "<class 'pandas.core.frame.DataFrame'>\n",
      "Int64Index: 15964 entries, 0 to 15974\n",
      "Data columns (total 22 columns):\n",
      " #   Column           Non-Null Count  Dtype  \n",
      "---  ------           --------------  -----  \n",
      " 0   time             15964 non-null  object \n",
      " 1   latitude         15964 non-null  float64\n",
      " 2   longitude        15964 non-null  float64\n",
      " 3   depth            15964 non-null  float64\n",
      " 4   mag              15964 non-null  float64\n",
      " 5   magType          15964 non-null  object \n",
      " 6   nst              15964 non-null  float64\n",
      " 7   gap              15964 non-null  float64\n",
      " 8   dmin             15964 non-null  float64\n",
      " 9   rms              15964 non-null  float64\n",
      " 10  net              15964 non-null  object \n",
      " 11  id               15964 non-null  object \n",
      " 12  updated          15964 non-null  object \n",
      " 13  place            15964 non-null  object \n",
      " 14  type             15964 non-null  object \n",
      " 15  horizontalError  15964 non-null  float64\n",
      " 16  depthError       15964 non-null  float64\n",
      " 17  magError         15964 non-null  float64\n",
      " 18  magNst           15964 non-null  float64\n",
      " 19  status           15964 non-null  object \n",
      " 20  locationSource   15964 non-null  object \n",
      " 21  magSource        15964 non-null  object \n",
      "dtypes: float64(12), object(10)\n",
      "memory usage: 3.4+ MB\n"
     ]
    }
   ],
   "source": [
    "data.info()"
   ]
  },
  {
   "cell_type": "code",
   "execution_count": 150,
   "metadata": {},
   "outputs": [],
   "source": [
    "X=data[['latitude','longitude','depth','mag','nst','gap','dmin','rms','horizontalError','depthError','magError','magNst']]\n",
    "Y=data['mag']"
   ]
  },
  {
   "cell_type": "code",
   "execution_count": 151,
   "metadata": {},
   "outputs": [],
   "source": [
    "from sklearn.model_selection import train_test_split"
   ]
  },
  {
   "cell_type": "code",
   "execution_count": 181,
   "metadata": {},
   "outputs": [],
   "source": [
    "X_train,X_test,y_train,y_test=train_test_split(X,Y,test_size=0.3,random_state=101)"
   ]
  },
  {
   "cell_type": "code",
   "execution_count": 200,
   "metadata": {},
   "outputs": [],
   "source": [
    "from sklearn.linear_model import LinearRegression"
   ]
  },
  {
   "cell_type": "code",
   "execution_count": 201,
   "metadata": {},
   "outputs": [],
   "source": [
    "lm=LinearRegression()"
   ]
  },
  {
   "cell_type": "code",
   "execution_count": 202,
   "metadata": {},
   "outputs": [
    {
     "data": {
      "text/plain": [
       "LinearRegression(copy_X=True, fit_intercept=True, n_jobs=None, normalize=False)"
      ]
     },
     "execution_count": 202,
     "metadata": {},
     "output_type": "execute_result"
    }
   ],
   "source": [
    "lm.fit(X_train,y_train)"
   ]
  },
  {
   "cell_type": "code",
   "execution_count": 203,
   "metadata": {},
   "outputs": [
    {
     "data": {
      "text/plain": [
       "array([1.6 , 1.9 , 1.3 , ..., 1.9 , 0.84, 1.9 ])"
      ]
     },
     "execution_count": 203,
     "metadata": {},
     "output_type": "execute_result"
    }
   ],
   "source": [
    "predict=lm.predict(X_test)\n",
    "predict"
   ]
  },
  {
   "cell_type": "code",
   "execution_count": 220,
   "metadata": {},
   "outputs": [],
   "source": [
    "from sklearn.metrics import mean_squared_error,classification_report"
   ]
  },
  {
   "cell_type": "code",
   "execution_count": 224,
   "metadata": {},
   "outputs": [
    {
     "name": "stdout",
     "output_type": "stream",
     "text": [
      "              precision    recall  f1-score   support\n",
      "\n",
      "          -1       1.00      0.89      0.94         9\n",
      "           0       0.96      1.00      0.98      1584\n",
      "           1       0.98      0.97      0.97      2155\n",
      "           2       0.98      0.95      0.97       671\n",
      "           3       0.91      0.90      0.90       119\n",
      "           4       0.99      0.95      0.97       227\n",
      "           5       0.96      0.92      0.94        24\n",
      "           6       0.00      0.00      0.00         1\n",
      "\n",
      "    accuracy                           0.97      4790\n",
      "   macro avg       0.85      0.82      0.83      4790\n",
      "weighted avg       0.97      0.97      0.97      4790\n",
      "\n"
     ]
    }
   ],
   "source": [
    "print(classification_report(y_test.astype('int'),predict.astype('int')))"
   ]
  }
 ],
 "metadata": {
  "kernelspec": {
   "display_name": "Python 3",
   "language": "python",
   "name": "python3"
  },
  "language_info": {
   "codemirror_mode": {
    "name": "ipython",
    "version": 3
   },
   "file_extension": ".py",
   "mimetype": "text/x-python",
   "name": "python",
   "nbconvert_exporter": "python",
   "pygments_lexer": "ipython3",
   "version": "3.7.6"
  }
 },
 "nbformat": 4,
 "nbformat_minor": 4
}
